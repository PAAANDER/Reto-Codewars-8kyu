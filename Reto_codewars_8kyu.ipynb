{
  "nbformat": 4,
  "nbformat_minor": 0,
  "metadata": {
    "colab": {
      "provenance": [],
      "authorship_tag": "ABX9TyPrzUa318Int8XzloydVBNk",
      "include_colab_link": true
    },
    "kernelspec": {
      "name": "python3",
      "display_name": "Python 3"
    },
    "language_info": {
      "name": "python"
    }
  },
  "cells": [
    {
      "cell_type": "markdown",
      "metadata": {
        "id": "view-in-github",
        "colab_type": "text"
      },
      "source": [
        "<a href=\"https://colab.research.google.com/github/PAAANDER/Reto-Codewars-8kyu/blob/main/Reto_codewars_8kyu.ipynb\" target=\"_parent\"><img src=\"https://colab.research.google.com/assets/colab-badge.svg\" alt=\"Open In Colab\"/></a>"
      ]
    },
    {
      "cell_type": "markdown",
      "source": [
        "Suma todos los números de una matriz determinada (cq. list), excepto el elemento más alto y el más bajo (¡por valor, no por índice!).\n",
        "\n",
        "El elemento más alto o más bajo respectivamente es un único elemento en cada borde, incluso si hay más de uno con el mismo valor.\n",
        "\n",
        "Cuidado con la validación de entrada.\n",
        "\n",
        "Ejemplo\n",
        "{6, 2, 1, 8, 10} => 16\n",
        "{ 1, 1, 11, 2, 3 } => 6\n",
        "Validación de entrada\n",
        "Si se proporciona un valor vacío (nulo, Ninguno, Nada, etc.) en lugar de una matriz, o la matriz dada es una lista vacía o una lista con solo 1 elemento, devuelve 0."
      ],
      "metadata": {
        "id": "aUKZLCI5kbsx"
      }
    },
    {
      "cell_type": "code",
      "execution_count": 2,
      "metadata": {
        "colab": {
          "base_uri": "https://localhost:8080/"
        },
        "id": "SGqPlJfJifQd",
        "outputId": "ea8f1e8a-493f-4827-f5e9-2962bf51e877"
      },
      "outputs": [
        {
          "output_type": "stream",
          "name": "stdout",
          "text": [
            "16\n",
            "6\n",
            "0\n",
            "0\n",
            "0\n"
          ]
        }
      ],
      "source": [
        "def sum_array(arr):\n",
        "    #your code here\n",
        "    if arr is None or len(arr) <= 1:\n",
        "        return 0\n",
        "\n",
        "    max_value = max(arr)\n",
        "    min_value = min(arr)\n",
        "\n",
        "    total_sum = sum(arr)\n",
        "\n",
        "    result = total_sum - max_value - min_value\n",
        "\n",
        "    return result\n",
        "\n",
        "print(sum_array([6, 2, 1, 8, 10]))\n",
        "print(sum_array([1, 1, 11, 2, 3]))\n",
        "print(sum_array([]))\n",
        "print(sum_array([5]))\n",
        "print(sum_array(None))"
      ]
    }
  ]
}